{
 "cells": [
  {
   "cell_type": "code",
   "execution_count": 1,
   "metadata": {},
   "outputs": [],
   "source": [
    "import cmasher as cmr\n",
    "from matplotlib import rcParams\n",
    "import matplotlib.pyplot as plt\n",
    "colors = cmr.take_cmap_colors('cmr.bubblegum', 6, cmap_range=(0.05, 0.95), return_fmt='hex')\n",
    "rcParams['font.family'] = 'serif'\n",
    "rcParams['font.size'] = 14\n",
    "rcParams['mathtext.default'] = 'regular'\n",
    "from matplotlib import colors as cr\n",
    "import pandas as pd\n",
    "import seaborn as sns\n",
    "import numpy as np\n",
    "from astropy.cosmology import Planck18_arXiv_v2 as Planck18\n",
    "from astropy import units as u\n",
    "\n",
    "import catgen\n",
    "import sfh\n",
    "import param_dists as pdf"
   ]
  },
  {
   "cell_type": "code",
   "execution_count": 2,
   "metadata": {},
   "outputs": [],
   "source": [
    "n_sample = 1000000\n",
    "n_downsample=100\n",
    "path_prefix = '/Users/kbreivik/projects/emulator_models/'\n",
    "paths = ['alpha_0.25', 'alpha_1', 'alpha_3', 'alpha_5']\n",
    "labels= [r'$\\alpha=0.25$',r'$\\alpha=1$',r'$\\alpha=3$', r'$\\alpha=5$']\n",
    "\n",
    "\n",
    "path_select = 0\n",
    "path = path_prefix + paths[path_select]\n",
    "label = labels[path_select]\n",
    "\n",
    "metallicities = ['0.000085', '0.00012673', '0.00018896', '0.00028173', '0.00042005',\n",
    "                 '0.00062629', '0.00093378', '0.00139224', '0.00207579', '0.00309496',\n",
    "                 '0.00461451', '0.00688012', '0.0102581', '0.01529458', '0.02280385', '0.034']\n",
    "mets = np.array([0.00008500, 0.00012673, 0.00018896, 0.00028173, 0.00042005,\n",
    "                 0.00062629, 0.00093378, 0.00139224, 0.00207579, 0.00309496,\n",
    "                 0.00461451, 0.00688012, 0.01025810, 0.01529458, 0.02280385, 0.03400000])\n"
   ]
  },
  {
   "cell_type": "code",
   "execution_count": 3,
   "metadata": {},
   "outputs": [
    {
     "name": "stdout",
     "output_type": "stream",
     "text": [
      "Help on class Catalog in module catgen:\n",
      "\n",
      "class Catalog(builtins.object)\n",
      " |  Catalog(dat_path, merger_type, sfr_model, met_grid)\n",
      " |  \n",
      " |  Class for building a generic catalog of merging compact objects\n",
      " |  from COSMIC data in metallicity grid\n",
      " |  \n",
      " |  Attributes\n",
      " |  ----------\n",
      " |  merger_type : `str`\n",
      " |      Defines the type of merging compact objects with options\n",
      " |      including: 'BNS', 'NSBH', 'BBH'\n",
      " |  \n",
      " |  Methods defined here:\n",
      " |  \n",
      " |  __init__(self, dat_path, merger_type, sfr_model, met_grid)\n",
      " |      Initialize self.  See help(type(self)) for accurate signature.\n",
      " |  \n",
      " |  build_cat(self, n_sample, n_downsample, sigma_logZ=0.5, z_max=20)\n",
      " |  \n",
      " |  ----------------------------------------------------------------------\n",
      " |  Data descriptors defined here:\n",
      " |  \n",
      " |  __dict__\n",
      " |      dictionary for instance variables (if defined)\n",
      " |  \n",
      " |  __weakref__\n",
      " |      list of weak references to the object (if defined)\n",
      "\n"
     ]
    }
   ],
   "source": [
    "help(catgen.Catalog)"
   ]
  },
  {
   "cell_type": "code",
   "execution_count": 4,
   "metadata": {},
   "outputs": [],
   "source": [
    "cat = catgen.Catalog(dat_path=path,\n",
    "                     merger_type='BBH',\n",
    "                     sfr_model=sfh.mf_17,\n",
    "                     met_grid=mets)"
   ]
  },
  {
   "cell_type": "markdown",
   "metadata": {},
   "source": [
    "### build a catalog which contains mergers in a comoving volume of [Gpc$^3$]"
   ]
  },
  {
   "cell_type": "code",
   "execution_count": null,
   "metadata": {},
   "outputs": [
    {
     "name": "stderr",
     "output_type": "stream",
     "text": [
      "/Users/kbreivik/Documents/Github/cosmic-mergers/utils.py:118: VisibleDeprecationWarning: Creating an ndarray from ragged nested sequences (which is a list-or-tuple of lists-or-tuples-or ndarrays with different lengths or shapes) is deprecated. If you meant to do this, you must specify 'dtype=object' when creating the ndarray\n",
      "  dat = np.array(dat)\n",
      " 50%|████▉     | 498534/1000000 [00:29<00:29, 16946.21it/s]"
     ]
    }
   ],
   "source": [
    "mergers, norm_fac = cat.build_cat(n_sample=n_sample, n_downsample=n_downsample)"
   ]
  },
  {
   "cell_type": "markdown",
   "metadata": {},
   "source": [
    "#### Build the pdf of the merger lookback time distribution"
   ]
  },
  {
   "cell_type": "code",
   "execution_count": null,
   "metadata": {},
   "outputs": [],
   "source": [
    "p_tlb = pdf.get_dN_dtlb(mergers.t_merge)"
   ]
  },
  {
   "cell_type": "markdown",
   "metadata": {},
   "source": [
    "#### generate a set of lookback times and redshifts to evaulate the pdf\n",
    "##### note that everything is in units of a comoving volume!"
   ]
  },
  {
   "cell_type": "code",
   "execution_count": null,
   "metadata": {},
   "outputs": [],
   "source": [
    "z_max = 15\n",
    "z = np.expm1(np.linspace(0, np.log1p(z_max), 1000))\n",
    "tlb = Planck18.lookback_time(z).to(u.Myr).value"
   ]
  },
  {
   "cell_type": "code",
   "execution_count": null,
   "metadata": {},
   "outputs": [],
   "source": [
    "plt.plot(z, p_tlb(tlb))\n",
    "plt.xlabel('redshift')\n",
    "plt.ylabel(r'dN/(dt$_{\\rm{lb}}$dV)(z) [Myr$^{-1}$ Gpc$^{-3}$]')\n",
    "plt.tight_layout()"
   ]
  },
  {
   "cell_type": "markdown",
   "metadata": {},
   "source": [
    "#### Now we can use the normalization factor which evaluates the average mass of BBH progenitors formed per unit solar mass from the merger catalog to get the rate!"
   ]
  },
  {
   "cell_type": "code",
   "execution_count": null,
   "metadata": {},
   "outputs": [],
   "source": [
    "plt.plot(z, p_tlb(tlb) * norm_fac)\n",
    "plt.xlabel('redshift')\n",
    "plt.ylabel(r'R$_{\\rm{com}}$(z) [Myr$^{-1}$ Gpc$^{-3}$]')\n",
    "plt.tight_layout()"
   ]
  },
  {
   "cell_type": "code",
   "execution_count": null,
   "metadata": {},
   "outputs": [],
   "source": []
  }
 ],
 "metadata": {
  "kernelspec": {
   "display_name": "Python 3",
   "language": "python",
   "name": "python3"
  },
  "language_info": {
   "codemirror_mode": {
    "name": "ipython",
    "version": 3
   },
   "file_extension": ".py",
   "mimetype": "text/x-python",
   "name": "python",
   "nbconvert_exporter": "python",
   "pygments_lexer": "ipython3",
   "version": "3.7.9"
  }
 },
 "nbformat": 4,
 "nbformat_minor": 4
}
